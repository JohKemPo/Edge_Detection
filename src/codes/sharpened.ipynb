{
 "cells": [
  {
   "cell_type": "markdown",
   "metadata": {},
   "source": [
    "<h3>Pillow</h3>"
   ]
  },
  {
   "cell_type": "code",
   "execution_count": 4,
   "metadata": {},
   "outputs": [
    {
     "name": "stderr",
     "output_type": "stream",
     "text": [
      "/snap/core20/current/lib/x86_64-linux-gnu/libstdc++.so.6: version `GLIBCXX_3.4.29' not found (required by /lib/x86_64-linux-gnu/libproxy.so.1)\n",
      "Failed to load module: /home/joh/snap/code/common/.cache/gio-modules/libgiolibproxy.so\n",
      "eog: symbol lookup error: /snap/core20/current/lib/x86_64-linux-gnu/libpthread.so.0: undefined symbol: __libc_pthread_init, version GLIBC_PRIVATE\n"
     ]
    }
   ],
   "source": [
    "from PIL import Image, ImageFilter\n",
    "\n",
    "# Load the image\n",
    "image_path = '../images/subimagem_0_0.jpg'  # Specify your image path\n",
    "image = Image.open(image_path)\n",
    "\n",
    "# Apply the Lanczos resampling algorithm to resize the image\n",
    "# Increase the size and then decrease it back to its original dimensions\n",
    "# This is an indirect way to apply sharpening using the high-quality Lanczos filter\n",
    "width, height = image.size\n",
    "resized_image = image.resize((int(width * 2), int(height * 2)), Image.LANCZOS)  # Enlarge the image\n",
    "sharpened_image = resized_image.resize((width, height), Image.LANCZOS)  # Resize it back to original\n",
    "\n",
    "# Optionally, apply an additional sharpening filter for more pronounced effect\n",
    "sharpened_image = sharpened_image.filter(ImageFilter.SHARPEN)\n",
    "\n",
    "# Save or display the sharpened image\n",
    "sharpened_image_path = 'sharpened_image.jpg'  # Specify the output path\n",
    "sharpened_image.save(sharpened_image_path)\n",
    "sharpened_image.show()"
   ]
  },
  {
   "cell_type": "markdown",
   "metadata": {},
   "source": [
    "<h3>OpenCv</h3>"
   ]
  },
  {
   "cell_type": "code",
   "execution_count": 5,
   "metadata": {},
   "outputs": [],
   "source": [
    "import cv2\n",
    "import numpy as np\n",
    "\n",
    "# Carregar a imagem\n",
    "image = cv2.imread('../images/subimagem_0_0.jpg')\n",
    "\n",
    "# Converter a imagem para escala de cinza\n",
    "imagem_cinza = cv2.cvtColor(image, cv2.COLOR_BGR2GRAY)\n",
    "\n",
    "# Aplicar filtro Gaussiano para suavizar a imagem e reduzir o ruído\n",
    "imagem_suavizada = cv2.GaussianBlur(imagem_cinza, (5, 5), 0)\n",
    "\n",
    "# Aplicar o detector de bordas Canny\n",
    "bordas = cv2.Canny(imagem_suavizada, 50, 150)  # Ajuste esses parâmetros conforme necessário\n",
    "\n",
    "# Realizar o sharpening da imagem\n",
    "kernel_sharpening = np.array([[-1,-1,-1], \n",
    "                              [-1, 9,-1],\n",
    "                              [-1,-1,-1]])\n",
    "sharpened_image = cv2.filter2D(image, -1, kernel_sharpening)\n",
    "\n",
    "# Combinar a imagem original com as bordas realçadas usando adição ponderada\n",
    "alpha = 0.5  # Peso para a imagem original\n",
    "beta = 0.5  # Peso para as bordas realçadas\n",
    "combined_image = cv2.addWeighted(image, alpha, sharpened_image, beta, 0)\n",
    "\n",
    "# Mostrar a imagem original, a imagem realçada e a imagem combinada\n",
    "cv2.imshow('Imagem Original', image)\n",
    "cv2.imshow('Imagem com Bordas Realcadas', sharpened_image)\n",
    "cv2.imshow('Imagem Combinada', combined_image)\n",
    "cv2.waitKey(0)\n",
    "cv2.destroyAllWindows()\n"
   ]
  }
 ],
 "metadata": {
  "kernelspec": {
   "display_name": "edge",
   "language": "python",
   "name": "python3"
  },
  "language_info": {
   "codemirror_mode": {
    "name": "ipython",
    "version": 3
   },
   "file_extension": ".py",
   "mimetype": "text/x-python",
   "name": "python",
   "nbconvert_exporter": "python",
   "pygments_lexer": "ipython3",
   "version": "3.11.5"
  }
 },
 "nbformat": 4,
 "nbformat_minor": 2
}
