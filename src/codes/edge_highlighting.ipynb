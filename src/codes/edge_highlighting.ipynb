{
 "cells": [
  {
   "cell_type": "markdown",
   "metadata": {},
   "source": [
    "https://docs.opencv.org/4.x/d0/d86/tutorial_py_image_arithmetics.html"
   ]
  },
  {
   "cell_type": "code",
   "execution_count": 1,
   "metadata": {},
   "outputs": [],
   "source": [
    "import cv2\n",
    "import numpy as np\n",
    "\n",
    "# Carregando a imagem\n",
    "image = cv2.imread('../images/image.jpg')\n",
    "# Convertendo para escala de cinza\n",
    "gray = cv2.cvtColor(image, cv2.COLOR_BGR2GRAY)\n",
    "\n",
    "# Aplicando Canny Edge Detection\n",
    "edges = cv2.Canny(gray, 100, 200)  \n",
    "\n",
    "# Realçando as bordas\n",
    "edges_highlighted = cv2.bitwise_and(image, image, mask=edges)\n",
    "\n",
    "# Exibindo a imagem original e a imagem com bordas realçadas\n",
    "cv2.imshow('Original Image', image)\n",
    "cv2.imshow('Edges Highlighted Image', edges_highlighted)\n",
    "cv2.waitKey(0)\n",
    "cv2.destroyAllWindows()\n"
   ]
  }
 ],
 "metadata": {
  "kernelspec": {
   "display_name": "edge",
   "language": "python",
   "name": "python3"
  },
  "language_info": {
   "codemirror_mode": {
    "name": "ipython",
    "version": 3
   },
   "file_extension": ".py",
   "mimetype": "text/x-python",
   "name": "python",
   "nbconvert_exporter": "python",
   "pygments_lexer": "ipython3",
   "version": "3.11.5"
  }
 },
 "nbformat": 4,
 "nbformat_minor": 2
}
