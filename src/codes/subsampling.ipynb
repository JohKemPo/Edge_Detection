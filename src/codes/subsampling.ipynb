{
 "cells": [
  {
   "cell_type": "markdown",
   "metadata": {},
   "source": [
    "<h1 align=\"center\">Método Subsampling</h1>\n",
    "\n",
    "<p align = \"justify\"> &emsp; O subsampling, também conhecido como subamostragem ou downsampling, é uma técnica utilizada para reduzir a resolução de uma imagem, mantendo apenas uma fração dos pixels originais. Isso resulta em uma versão da imagem com menor quantidade de detalhes, ocupando menos espaço de armazenamento e exigindo menos recursos computacionais para processamento.</p>\n",
    "\n",
    "\n",
    "<h3>Teoria:</h3>\n",
    "\n",
    "<p align = \"justify\"> &emsp; Em uma imagem digital, cada pixel representa uma unidade de informação visual. Quando realizamos o subsampling, reduzimos o número de pixels na imagem, mantendo apenas aqueles que são considerados mais importantes para representar a estrutura geral da cena. Isso é feito tipicamente removendo linhas e colunas alternadas de pixels, resultando em uma redução uniforme da resolução.</p>\n",
    "\n",
    "<h3>Aplicações:</h3>\n",
    "\n",
    "- **Compressão de Imagem:** O <p align=\"justify\">subsampling é comumente utilizado em algoritmos de compressão de imagem, como JPEG e MPEG, para reduzir o tamanho dos arquivos sem comprometer significativamente a qualidade visual.</p>\n",
    "\n",
    "- **Transmissão de Vídeo:** Em<p align=\"justify\"> aplicações de streaming de vídeo, o subsampling pode ser usado para reduzir a largura de banda necessária para transmitir o vídeo pela rede, permitindo uma reprodução mais suave em conexões de internet mais lentas.</p>\n",
    "\n",
    "- **Processamento de Imagem:**<p align=\"justify\"> Em certos casos de processamento de imagem, pode ser benéfico trabalhar com uma versão de baixa resolução da imagem original, especialmente quando os detalhes finos não são essenciais para a análise ou aplicação em questão.</p>\n",
    "\n",
    "<h3>Casos de Uso:</h3>\n",
    "\n",
    "- **Web:** <p align=\"justify\">Redimensionamento de imagens para exibição em páginas da web, reduzindo o tempo de carregamento da página.</p>\n",
    "\n",
    "- **Dispositivos Móveis:** <p align=\"justify\">Conservação de recursos em dispositivos móveis, onde a largura de banda e o poder de processamento podem ser limitados.</p>\n",
    "\n",
    "- **Telemedicina:** <p align=\"justify\">Transmissão de imagens médicas de alta resolução para diagnóstico remoto, onde a transmissão rápida é essencial.</p>\n",
    "\n",
    "<h3>Diferenciais:</h3>\n",
    "\n",
    "- **Eficiência:** <p align=\"justify\">O subsampling é uma técnica eficiente para reduzir a quantidade de dados em imagens sem perda significativa de qualidade visual.</p>\n",
    "\n",
    "- **Rapidez:** <p align=\"justify\">A redução da resolução resultante do subsampling pode acelerar operações de processamento de imagem, como filtragem e detecção de características.</p>\n"
   ]
  },
  {
   "cell_type": "code",
   "execution_count": 3,
   "metadata": {},
   "outputs": [],
   "source": [
    "import cv2\n",
    "\n",
    "# Carregar imagem\n",
    "image = cv2.imread('../images/image.jpg')\n",
    "\n",
    "# Aplicar subsampling para reduzir pela metade a resolução\n",
    "imagem_subsampling = cv2.resize(image, None, fx=0.5, fy=0.5, interpolation=cv2.INTER_AREA)\n",
    "\n",
    "# Exibir imagens\n",
    "cv2.imshow('Imagem Original', image)\n",
    "cv2.imshow('Imagem com Subsampling', imagem_subsampling)\n",
    "cv2.waitKey(0)\n",
    "cv2.destroyAllWindows()"
   ]
  }
 ],
 "metadata": {
  "kernelspec": {
   "display_name": "edge",
   "language": "python",
   "name": "python3"
  },
  "language_info": {
   "codemirror_mode": {
    "name": "ipython",
    "version": 3
   },
   "file_extension": ".py",
   "mimetype": "text/x-python",
   "name": "python",
   "nbconvert_exporter": "python",
   "pygments_lexer": "ipython3",
   "version": "3.11.5"
  }
 },
 "nbformat": 4,
 "nbformat_minor": 2
}
