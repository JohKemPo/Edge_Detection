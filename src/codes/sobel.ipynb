{
 "cells": [
  {
   "cell_type": "markdown",
   "metadata": {},
   "source": [
    "<h1 align=\"center\">Método Sobel</h1>\n",
    "\n",
    "<p align = \"justify\"> &emsp; O operador Sobel é uma técnica comum em processamento de imagem usada para detecção de bordas. Ele destaca as regiões de alta variação de intensidade em uma imagem, o que geralmente corresponde a bordas ou transições abruptas de intensidade de pixel. </p>\n",
    "\n",
    "\n",
    "<h3>Teoria:</h3>\n",
    "\n",
    "<p align = \"justify\"> &emsp; O operador Sobel é baseado na convolução da imagem original com kernels Sobel, que são pequenas máscaras (ou filtros) usadas para calcular as derivadas de primeira ordem em diferentes direções.</p>\n",
    "\n",
    "```bash\n",
    "#kernels \n",
    "\n",
    "Sobel X:\n",
    "[ -1  0  1 ]\n",
    "[ -2  0  2 ]\n",
    "[ -1  0  1 ]\n",
    "\n",
    "Sobel Y:\n",
    "[  1  2  1 ]\n",
    "[  0  0  0 ]\n",
    "[ -1 -2 -1 ]\n",
    "```\n",
    "\n",
    "<h3>Aplicações:</h3>\n",
    "\n",
    "- **Detecção de Bordas:** <p align=\"justify\"> O principal uso do operador Sobel é na detecção de bordas em imagens, o que é útil em várias tarefas de visão computacional e processamento de imagem, como segmentação de objetos e reconhecimento de padrões.</p>\n",
    "\n",
    "- **Realce de Características:** <p align=\"justify\"> Ele pode ser utilizado para realçar características importantes em imagens, destacando regiões de alta variação de intensidade.</p>\n",
    "\n",
    "- **Pré-processamento de Imagem:** <p align=\"justify\"> O operador Sobel é comumente aplicado como parte de um pipeline de pré-processamento de imagem para melhorar a qualidade dos dados antes de realizar análises mais avançadas.</p>\n",
    "\n",
    "[Mais informações](https://learnopencv.com/segformer-fine-tuning-for-lane-detection/)\n",
    "\n",
    "\n",
    "<h3>Casos de Uso:</h3>\n",
    "\n",
    " - **Visão Computacional:** <p align=\"justify\"> Detecção de bordas para reconhecimento de objetos em imagens.</p>\n",
    "\n",
    " - **Processamento de Imagens Médicas:** <p align=\"justify\"> Identificação de estruturas anatômicas em imagens médicas, como detectar bordas de órgãos em exames de ultrassom.</p>\n",
    "\n",
    " - **Robótica:** <p align=\"justify\"> Localização de bordas em imagens de câmeras para navegação de robôs móveis.</p>\n",
    "\n",
    "<h3>Diferenciais:</h3>\n",
    "\n",
    "- **Simplicidade:** <p align=\"justify\"> O operador Sobel é fácil de entender e implementar, tornando-o uma escolha popular para muitas aplicações de processamento de imagem.</P>\n",
    "\n",
    "- **Eficiência:** <p align=\"justify\"> Apesar de sua simplicidade, o operador Sobel é computacionalmente eficiente e pode ser aplicado em tempo real em muitas situações.</P>\n"
   ]
  },
  {
   "cell_type": "markdown",
   "metadata": {},
   "source": [
    "<h3>Exemplo oficial opencv</h3>\n"
   ]
  },
  {
   "cell_type": "code",
   "execution_count": 26,
   "metadata": {},
   "outputs": [],
   "source": [
    "import cv2\n",
    "\n",
    "# Carregar imagem\n",
    "image = cv2.imread('../images/subimagem_0_0.jpg')\n",
    "\n",
    "#  FONTE: https://learnopencv.com/edge-detection-using-opencv/\n",
    "cv2.imshow('Original', image)\n",
    "cv2.waitKey(0)\n",
    " \n",
    "# Convert to graycsale\n",
    "image_gray = cv2.cvtColor(image, cv2.COLOR_BGR2GRAY)\n",
    "cv2.destroyAllWindows()\n"
   ]
  },
  {
   "cell_type": "markdown",
   "metadata": {},
   "source": [
    "<p align=\"justify\">Após a leitura da imagem, também a desfocamos, utilizando a GaussianBlur()função. \n",
    "    Isso é feito para reduzir o ruído na imagem. Na detecção de bordas, as derivadas \n",
    "    numéricas das intensidades dos pixels devem ser calculadas, e isso normalmente \n",
    "    resulta em bordas “ruidosas”. Em outras palavras, a intensidade dos pixels \n",
    "    vizinhos em uma imagem (especialmente perto das bordas) pode flutuar bastante, \n",
    "    dando origem a bordas que não representam a estrutura de borda predominante \n",
    "    que procuramos. O desfoque suaviza a variação de intensidade próxima às bordas, facilitando a identificação da estrutura de borda predominante na imagem. </p>"
   ]
  },
  {
   "cell_type": "code",
   "execution_count": 27,
   "metadata": {},
   "outputs": [],
   "source": [
    "# Blur the image for better edge detection\n",
    "image_blur = cv2.GaussianBlur(image_gray, (3,3), 0) "
   ]
  },
  {
   "cell_type": "code",
   "execution_count": 28,
   "metadata": {},
   "outputs": [],
   "source": [
    "# Sobel Edge Detection\n",
    "sobelx = cv2.Sobel(src=image_blur, ddepth=cv2.CV_64F, dx=1, dy=0, ksize=5) # Sobel Edge Detection on the X axis\n",
    "sobely = cv2.Sobel(src=image_blur, ddepth=cv2.CV_64F, dx=0, dy=1, ksize=5) # Sobel Edge Detection on the Y axis\n",
    "sobelxy = cv2.Sobel(src=image_blur, ddepth=cv2.CV_64F, dx=1, dy=1, ksize=5) # Combined X and Y Sobel Edge Detection\n",
    "# Display Sobel Edge Detection Images\n",
    "cv2.imshow('Sobel X', sobelx)\n",
    "cv2.waitKey(0)\n",
    "cv2.imshow('Sobel Y', sobely)\n",
    "cv2.waitKey(0)\n",
    "cv2.imshow('Sobel X Y using Sobel() function', sobelxy)\n",
    "cv2.waitKey(0)\n",
    "cv2.destroyAllWindows()\n"
   ]
  },
  {
   "cell_type": "code",
   "execution_count": 30,
   "metadata": {},
   "outputs": [],
   "source": [
    "# Canny Edge Detection\n",
    "edges = cv2.Canny(image=image_blur, threshold1=100, threshold2=200) # Canny Edge Detection\n",
    "imagem_bordas = cv2.bitwise_and(image, image, mask=edges)\n",
    "\n",
    "# Display Canny Edge Detection Image\n",
    "cv2.imshow('Canny Edge Detection', imagem_bordas)\n",
    "cv2.waitKey(0)\n",
    "cv2.destroyAllWindows()\n"
   ]
  },
  {
   "cell_type": "markdown",
   "metadata": {},
   "source": [
    "<h3>Exemplo Magnitude do Gradiente:</h3>"
   ]
  },
  {
   "cell_type": "code",
   "execution_count": null,
   "metadata": {},
   "outputs": [],
   "source": [
    "import numpy as np\n",
    "\n",
    "# Aplicar o operador Sobel para calcular gradientes em x e y\n",
    "gradiente_x = cv2.Sobel(image, cv2.CV_64F, 1, 0, ksize=3)\n",
    "gradiente_y = cv2.Sobel(image, cv2.CV_64F, 0, 1, ksize=3)\n",
    "\n",
    "# Calcular a magnitude do gradiente\n",
    "magnitude_gradiente = np.sqrt(gradiente_x**2 + gradiente_y**2)\n",
    "\n",
    "# Exibir imagens resultantes\n",
    "cv2.imshow('Imagem Original', image)\n",
    "cv2.imshow('Magnitude do Gradiente', magnitude_gradiente.astype(np.uint8))\n",
    "cv2.waitKey(0)\n",
    "cv2.destroyAllWindows()\n"
   ]
  }
 ],
 "metadata": {
  "kernelspec": {
   "display_name": "edge",
   "language": "python",
   "name": "python3"
  },
  "language_info": {
   "codemirror_mode": {
    "name": "ipython",
    "version": 3
   },
   "file_extension": ".py",
   "mimetype": "text/x-python",
   "name": "python",
   "nbconvert_exporter": "python",
   "pygments_lexer": "ipython3",
   "version": "3.11.5"
  }
 },
 "nbformat": 4,
 "nbformat_minor": 2
}
